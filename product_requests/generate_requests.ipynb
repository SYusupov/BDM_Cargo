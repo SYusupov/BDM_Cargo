{
 "cells": [
  {
   "cell_type": "code",
   "execution_count": 4,
   "metadata": {},
   "outputs": [],
   "source": [
    "import csv\n",
    "import pandas as pd\n",
    "# from retrieving_images import get_images\n",
    "import pyperclip"
   ]
  },
  {
   "cell_type": "code",
   "execution_count": 63,
   "metadata": {},
   "outputs": [],
   "source": [
    "df = pd.read_csv(\"olist_products_dataset.csv\")\n",
    "df1 = pd.read_csv(\"product_category_name_translation.csv\")\n",
    "\n",
    "# joining\n",
    "df = pd.merge(df, df1, on='product_category_name')\n",
    "\n",
    "# removing unncessary columns\n",
    "df = df.drop(['product_name_lenght', 'product_description_lenght', 'product_photos_qty', 'product_category_name'],axis=1)\n",
    "\n",
    "# cannot be too heavy or too large\n",
    "dims_cols = ['product_height_cm', 'product_length_cm', 'product_width_cm']\n",
    "weight = 23000*0.5\n",
    "dms = 158*0.5\n",
    "df.loc[(df['product_weight_g'] < weight) & (df[dims_cols].sum(axis=1) < dms) & (df['product_weight_g']!= 0)]\n",
    "\n",
    "df.to_csv(\"products.csv\", index=False)"
   ]
  },
  {
   "cell_type": "code",
   "execution_count": 11,
   "metadata": {},
   "outputs": [],
   "source": [
    "df = pd.read_csv('products.csv')\n",
    "\n",
    "# leaving only few categories\n",
    "tgt_cats = ['computers_accessories', 'perfumery', 'fashion_shoes', 'watches_gifts', 'baby']\n",
    "df = df[df['product_category_name_english'].isin(tgt_cats)]\n",
    "\n",
    "# only 25 rows of each category\n",
    "df = df.groupby('product_category_name_english').head(25)\n",
    "\n",
    "df.to_csv('5cats_25rows_products.csv', index=False)"
   ]
  },
  {
   "cell_type": "code",
   "execution_count": 6,
   "metadata": {},
   "outputs": [],
   "source": [
    "df = pd.read_csv('5cats_25rows_products_prodTitleAndImages.csv')"
   ]
  },
  {
   "cell_type": "code",
   "execution_count": 34,
   "metadata": {},
   "outputs": [],
   "source": [
    "perfume_names = \"\"\"Acqua di Gio by Giorgio Armani\n",
    "Alien by Thierry Mugler\n",
    "Black Opium by Yves Saint Laurent\n",
    "Bleu de Chanel by Chanel\n",
    "Bright Crystal by Versace\n",
    "Candy by Prada\n",
    "Chance by Chanel\n",
    "CK One by Calvin Klein\n",
    "Coco Mademoiselle by Chanel\n",
    "Daisy by Marc Jacobs\n",
    "Eau de Rochas by Rochas\n",
    "Flowerbomb by Viktor & Rolf\n",
    "Good Girl by Carolina Herrera\n",
    "Green Irish Tweed by Creed\n",
    "Gucci Bloom by Gucci\n",
    "Happy by Clinique\n",
    "Hypnotic Poison by Christian Dior\n",
    "Infusion d'Iris by Prada\n",
    "J'adore by Christian Dior\n",
    "Joy by Christian Dior\n",
    "La Vie est Belle by Lancôme\n",
    "Light Blue by Dolce & Gabbana\n",
    "L'Interdit by Givenchy\n",
    "Love Story by Chloé\n",
    "Miracle by Lancôme\n",
    "\"\"\".split(\"\\n\")\n",
    "\n",
    "computer_accessories = [\n",
    "    \"Logitech MX Master 3 Wireless Mouse\",\n",
    "    \"Razer Huntsman Elite Gaming Keyboard\",\n",
    "    \"Samsung T7 Portable SSD - 1TB\",\n",
    "    \"SanDisk Ultra Flair USB 3.0 Flash Drive - 128GB\",\n",
    "    \"Logitech C922 Pro Stream Webcam\",\n",
    "    \"Bose QuietComfort 35 II Wireless Headphones\",\n",
    "    \"Anker 4-Port USB 3.0 Hub\",\n",
    "    \"Kootek Laptop Cooling Pad\",\n",
    "    \"SteelSeries QcK Gaming Surface - XL RGB Prism Edition\",\n",
    "    \"AmazonBasics Metal Monitor Stand\",\n",
    "    \"Logitech R500 Laser Presentation Remote\",\n",
    "    \"Avantree DG60 Bluetooth 5.0 USB Audio Adapter\",\n",
    "    \"AmazonBasics RJ45 Cat-6 Ethernet Patch Cable - 25 Feet\",\n",
    "    \"AmazonBasics High-Speed HDMI Cable - 6 Feet\",\n",
    "    \"AmazonBasics DVI to DVI Cable - 6 Feet\",\n",
    "    \"AmazonBasics VGA to VGA Cable - 6 Feet\",\n",
    "    \"AmazonBasics DisplayPort to DisplayPort Cable - 6 Feet\",\n",
    "    \"AmazonBasics USB 3.0 Extension Cable - 6 Feet\",\n",
    "    \"Blue Yeti USB Mic for Recording & Streaming\",\n",
    "    \"Anker PowerCore 10000 Portable Charger\",\n",
    "    \"Kuzy Keyboard Cover for MacBook Pro\",\n",
    "    \"amFilm Tempered Glass Screen Protector for MacBook Pro\",\n",
    "    \"iKlear Apple Polish Cleaning Kit\",\n",
    "    \"Incase ICON Sleeve for MacBook Pro\",\n",
    "    \"Belkin 6-Outlet Power Strip\"\n",
    "]\n",
    "\n",
    "fashion_shoes = [\n",
    "    \"Adidas Superstar\",\n",
    "    \"Nike Air Force 1\",\n",
    "    \"Converse Chuck Taylor All Star\",\n",
    "    \"Vans Old Skool\",\n",
    "    \"Reebok Classic Leather\",\n",
    "    \"Puma Suede Classic\",\n",
    "    \"New Balance 990v5\",\n",
    "    \"Fila Disruptor II\",\n",
    "    \"Dr. Martens 1460\",\n",
    "    \"Timberland 6-Inch Premium Waterproof Boot\",\n",
    "    \"UGG Classic Short II\",\n",
    "    \"Skechers D'Lites\",\n",
    "    \"Crocs Classic Clog\",\n",
    "    \"Birkenstock Arizona\",\n",
    "    \"Teva Original Universal\",\n",
    "    \"Clarks Desert Boot\",\n",
    "    \"Sperry Top-Sider Authentic Original Boat Shoe\",\n",
    "    \"Steve Madden Irenee Sandal\",\n",
    "    \"Adidas Adilette\",\n",
    "    \"Nike Benassi JDI\",\n",
    "    \"Gucci Ace Sneaker\",\n",
    "    \"Balenciaga Triple S Trainer\",\n",
    "    \"Prada Cloudbust Thunder Sneaker\",\n",
    "    \"Christian Louboutin Red Bottoms\",\n",
    "    \"Yeezy Boost 350 V2\"\n",
    "]\n",
    "\n",
    "baby_products = [\n",
    "    \"Graco Pack 'n Play Playard\",\n",
    "    \"Fisher-Price Infant-to-Toddler Rocker\",\n",
    "    \"Baby Einstein 5-in-1 Journey of Discovery Activity Gym\",\n",
    "    \"Summer Infant Pop N' Jump Portable Activity Center\",\n",
    "    \"Munchkin Portable Diaper Caddy\",\n",
    "    \"Philips Avent Anti-Colic Baby Bottle\",\n",
    "    \"Dr. Brown's Original Bottle Newborn Feeding Set\",\n",
    "    \"Medela Sonata Smart Breast Pump\",\n",
    "    \"Spectra S1 Plus Electric Breast Pump\",\n",
    "    \"FridaBaby NoseFrida The Snotsucker\",\n",
    "    \"Hatch Baby Rest Sound Machine\",\n",
    "    \"4moms mamaRoo 4 Baby Swing\",\n",
    "    \"Baby Delight Beside Me Dreamer Bassinet & Bedside Sleeper\",\n",
    "    \"Boppy Original Nursing Pillow and Positioner\",\n",
    "    \"Skip Hop Moby Bath Spout Cover\",\n",
    "    \"Infantino Flip 4-in-1 Convertible Carrier\",\n",
    "    \"Ergobaby 360 All-Position Baby Carrier\",\n",
    "    \"Baby Trend Expedition Jogger Stroller\",\n",
    "    \"Chicco Bravo Trio Travel System\",\n",
    "    \"UPPAbaby Vista V2 Stroller\",\n",
    "    \"Joovy Spoon Walker\",\n",
    "    \"Fisher-Price Rainforest Jumperoo\",\n",
    "    \"Skip Hop Explore and More Baby's View 3-Stage Activity Center\",\n",
    "    \"Burt's Bees Baby Organic Cotton Bodysuits\",\n",
    "    \"aden + anais Classic Swaddle Blankets\"\n",
    "]\n",
    "\n",
    "watches = ['Apple Watch Series 7', 'Rolex Submariner', 'Omega Seamaster', 'Tag Heuer Carrera', 'Breitling Navitimer', 'Tudor Black Bay', 'Cartier Tank', 'Patek Philippe Nautilus', 'Jaeger-LeCoultre Reverso', 'Audemars Piguet Royal Oak', 'IWC Portugieser', 'Panerai Luminor', 'Breguet Classique', 'Blancpain Fifty Fathoms', 'Hublot Big Bang', 'Zenith El Primero', 'Nomos Glashutte Tangente', 'Seiko SKX007', 'Citizen Eco-Drive', 'Hamilton Khaki Field', 'Tissot T-Touch', 'Casio G-Shock', 'Timex Weekender', 'Fossil Grant', 'Michael Kors Runway']"
   ]
  },
  {
   "cell_type": "code",
   "execution_count": 4,
   "metadata": {},
   "outputs": [],
   "source": [
    "# df['product_name'] = ''\n",
    "# df['product_image_link'] = ''"
   ]
  },
  {
   "cell_type": "code",
   "execution_count": null,
   "metadata": {},
   "outputs": [],
   "source": [
    "r_id"
   ]
  },
  {
   "cell_type": "code",
   "execution_count": 35,
   "metadata": {},
   "outputs": [],
   "source": [
    "i = 0\n",
    "for r_id, _ in df.loc[df['product_category_name_english'] == 'watches_gifts'].iterrows():\n",
    "    df.at[r_id, 'product_name'] = watches[i]\n",
    "    pyperclip.copy(watches[i]+\" product\")\n",
    "    df.at[r_id, 'product_image_link'] = input(watches[i])\n",
    "    i += 1"
   ]
  },
  {
   "cell_type": "code",
   "execution_count": 12,
   "metadata": {},
   "outputs": [],
   "source": [
    "for r_id, _ in df.loc[df['product_category_name_english'] == 'fashion_shoes'].iterrows():\n",
    "    df.at[r_id, 'product_name'] = df.at[r_id, 'fashion_shoes']"
   ]
  },
  {
   "cell_type": "code",
   "execution_count": 28,
   "metadata": {},
   "outputs": [
    {
     "data": {
      "text/html": [
       "<div>\n",
       "<style scoped>\n",
       "    .dataframe tbody tr th:only-of-type {\n",
       "        vertical-align: middle;\n",
       "    }\n",
       "\n",
       "    .dataframe tbody tr th {\n",
       "        vertical-align: top;\n",
       "    }\n",
       "\n",
       "    .dataframe thead th {\n",
       "        text-align: right;\n",
       "    }\n",
       "</style>\n",
       "<table border=\"1\" class=\"dataframe\">\n",
       "  <thead>\n",
       "    <tr style=\"text-align: right;\">\n",
       "      <th></th>\n",
       "      <th>product_id</th>\n",
       "      <th>product_weight_g</th>\n",
       "      <th>product_length_cm</th>\n",
       "      <th>product_height_cm</th>\n",
       "      <th>product_width_cm</th>\n",
       "      <th>product_category_name_english</th>\n",
       "      <th>product_name</th>\n",
       "      <th>product_image_link</th>\n",
       "    </tr>\n",
       "  </thead>\n",
       "  <tbody>\n",
       "    <tr>\n",
       "      <th>42</th>\n",
       "      <td>f2d80346f1dd6986e9e6611db7b708aa</td>\n",
       "      <td>50.0</td>\n",
       "      <td>16.0</td>\n",
       "      <td>2.0</td>\n",
       "      <td>11.0</td>\n",
       "      <td>baby</td>\n",
       "      <td>Baby Trend Expedition Jogger Stroller</td>\n",
       "      <td></td>\n",
       "    </tr>\n",
       "    <tr>\n",
       "      <th>43</th>\n",
       "      <td>09c3d39641970009c198caed304ccfc4</td>\n",
       "      <td>300.0</td>\n",
       "      <td>68.0</td>\n",
       "      <td>7.0</td>\n",
       "      <td>13.0</td>\n",
       "      <td>baby</td>\n",
       "      <td>Chicco Bravo Trio Travel System</td>\n",
       "      <td></td>\n",
       "    </tr>\n",
       "    <tr>\n",
       "      <th>44</th>\n",
       "      <td>b5d214651360e2d58e13b48ae69c6199</td>\n",
       "      <td>10400.0</td>\n",
       "      <td>100.0</td>\n",
       "      <td>23.0</td>\n",
       "      <td>27.0</td>\n",
       "      <td>baby</td>\n",
       "      <td>UPPAbaby Vista V2 Stroller</td>\n",
       "      <td></td>\n",
       "    </tr>\n",
       "  </tbody>\n",
       "</table>\n",
       "</div>"
      ],
      "text/plain": [
       "                          product_id  product_weight_g  product_length_cm  \\\n",
       "42  f2d80346f1dd6986e9e6611db7b708aa              50.0               16.0   \n",
       "43  09c3d39641970009c198caed304ccfc4             300.0               68.0   \n",
       "44  b5d214651360e2d58e13b48ae69c6199           10400.0              100.0   \n",
       "\n",
       "    product_height_cm  product_width_cm product_category_name_english  \\\n",
       "42                2.0              11.0                          baby   \n",
       "43                7.0              13.0                          baby   \n",
       "44               23.0              27.0                          baby   \n",
       "\n",
       "                             product_name product_image_link  \n",
       "42  Baby Trend Expedition Jogger Stroller                     \n",
       "43        Chicco Bravo Trio Travel System                     \n",
       "44             UPPAbaby Vista V2 Stroller                     "
      ]
     },
     "execution_count": 28,
     "metadata": {},
     "output_type": "execute_result"
    }
   ],
   "source": [
    "df.loc[(df['product_category_name_english']=='baby') & (df['product_image_link']=='')]"
   ]
  },
  {
   "cell_type": "code",
   "execution_count": 9,
   "metadata": {},
   "outputs": [
    {
     "data": {
      "text/plain": [
       "array(['perfumery', 'baby', 'computers_accessories', 'fashion_shoes',\n",
       "       'watches_gifts'], dtype=object)"
      ]
     },
     "execution_count": 9,
     "metadata": {},
     "output_type": "execute_result"
    }
   ],
   "source": [
    "df['product_category_name_english'].unique()"
   ]
  },
  {
   "cell_type": "code",
   "execution_count": 38,
   "metadata": {},
   "outputs": [
    {
     "data": {
      "text/plain": [
       "https://i1.perfumesclub.com/grande/931.jpg                                                                                                   1\n",
       "https://assets.reebok.com/images/w_600,f_auto,q_auto/24b817b111e2459f9e7badd8003f919c_9366/Classic_Leather_Blanco_GY0953_01_standard.jpg     1\n",
       "https://cdn.shopify.com/s/files/1/0083/3903/0082/products/SM11000009-03003-990_1_grande.jpg                                                  1\n",
       "https://s7d4.scene7.com/is/image/WolverineWorldWide/0532002_000.NEW?wid=584&hei=484&fmt=jpeg                                                 1\n",
       "https://bootspy.com/wp-content/uploads/2020/06/Clarks-Desert-Boot-Review_-Product-Shot-of-Clarks-Desert-Boots-on-Plain-Background.jpg        1\n",
       "                                                                                                                                            ..\n",
       "https://cdn.shopify.com/s/files/1/0648/1402/2870/products/BD06040_BMD_Charcoal_Tweed_Main_25492758-492b-40bc-a1cb-c5014fbe75ef_grande.jpg    1\n",
       "https://m.media-amazon.com/images/I/7110r-WJGTL.jpg                                                                                          1\n",
       "https://m.media-amazon.com/images/I/51unW3iIb8L._AC_SY355_.jpg                                                                               1\n",
       "https://cdn.shopify.com/s/files/1/0162/3257/9120/products/94922603487_10_992x.jpg                                                            1\n",
       "https://cdn.shopify.com/s/files/1/0413/8867/1143/products/MK6715_main.jpg                                                                    1\n",
       "Name: product_image_link, Length: 125, dtype: int64"
      ]
     },
     "execution_count": 38,
     "metadata": {},
     "output_type": "execute_result"
    }
   ],
   "source": [
    "df['product_image_link'].value_counts(dropna=False)"
   ]
  },
  {
   "cell_type": "code",
   "execution_count": 39,
   "metadata": {},
   "outputs": [
    {
     "data": {
      "text/plain": [
       "array(['perfumery', 'baby', 'computers_accessories', 'fashion_shoes',\n",
       "       'watches_gifts'], dtype=object)"
      ]
     },
     "execution_count": 39,
     "metadata": {},
     "output_type": "execute_result"
    }
   ],
   "source": [
    "df['product_category_name_english'].unique()"
   ]
  },
  {
   "cell_type": "code",
   "execution_count": 36,
   "metadata": {},
   "outputs": [],
   "source": [
    "df.to_csv('5cats_25rows_products_prodTitleAndImages.csv', index=False)"
   ]
  }
 ],
 "metadata": {
  "kernelspec": {
   "display_name": "race-charts-3Ukbqb5o",
   "language": "python",
   "name": "python3"
  },
  "language_info": {
   "codemirror_mode": {
    "name": "ipython",
    "version": 3
   },
   "file_extension": ".py",
   "mimetype": "text/x-python",
   "name": "python",
   "nbconvert_exporter": "python",
   "pygments_lexer": "ipython3",
   "version": "3.8.10"
  },
  "orig_nbformat": 4
 },
 "nbformat": 4,
 "nbformat_minor": 2
}
