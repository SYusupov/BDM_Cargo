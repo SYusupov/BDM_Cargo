{
 "cells": [
  {
   "cell_type": "code",
   "execution_count": 1,
   "metadata": {},
   "outputs": [],
   "source": [
    "import csv\n",
    "import pandas as pd\n",
    "# from retrieving_images import get_images\n",
    "import pyperclip\n",
    "import random"
   ]
  },
  {
   "cell_type": "code",
   "execution_count": 63,
   "metadata": {},
   "outputs": [],
   "source": [
    "df = pd.read_csv(\"olist_products_dataset.csv\")\n",
    "df1 = pd.read_csv(\"product_category_name_translation.csv\")\n",
    "\n",
    "# joining\n",
    "df = pd.merge(df, df1, on='product_category_name')\n",
    "\n",
    "# removing unncessary columns\n",
    "df = df.drop(['product_name_lenght', 'product_description_lenght', 'product_photos_qty', 'product_category_name'],axis=1)\n",
    "\n",
    "# cannot be too heavy or too large\n",
    "dims_cols = ['product_height_cm', 'product_length_cm', 'product_width_cm']\n",
    "weight = 23000*0.5\n",
    "dms = 158*0.5\n",
    "df.loc[(df['product_weight_g'] < weight) & (df[dims_cols].sum(axis=1) < dms) & (df['product_weight_g']!= 0)]\n",
    "\n",
    "df.to_csv(\"products.csv\", index=False)"
   ]
  },
  {
   "cell_type": "code",
   "execution_count": 11,
   "metadata": {},
   "outputs": [],
   "source": [
    "df = pd.read_csv('products.csv')\n",
    "\n",
    "# leaving only few categories\n",
    "tgt_cats = ['computers_accessories', 'perfumery', 'fashion_shoes', 'watches_gifts', 'baby']\n",
    "df = df[df['product_category_name_english'].isin(tgt_cats)]\n",
    "\n",
    "# only 25 rows of each category\n",
    "df = df.groupby('product_category_name_english').head(25)\n",
    "\n",
    "df.to_csv('5cats_25rows_products.csv', index=False)"
   ]
  },
  {
   "cell_type": "code",
   "execution_count": 43,
   "metadata": {},
   "outputs": [],
   "source": [
    "df = pd.read_csv('5cats_25rows_products_prodTitleAndImages.csv')"
   ]
  },
  {
   "cell_type": "code",
   "execution_count": 34,
   "metadata": {},
   "outputs": [],
   "source": [
    "perfume_names = \"\"\"Acqua di Gio by Giorgio Armani\n",
    "Alien by Thierry Mugler\n",
    "Black Opium by Yves Saint Laurent\n",
    "Bleu de Chanel by Chanel\n",
    "Bright Crystal by Versace\n",
    "Candy by Prada\n",
    "Chance by Chanel\n",
    "CK One by Calvin Klein\n",
    "Coco Mademoiselle by Chanel\n",
    "Daisy by Marc Jacobs\n",
    "Eau de Rochas by Rochas\n",
    "Flowerbomb by Viktor & Rolf\n",
    "Good Girl by Carolina Herrera\n",
    "Green Irish Tweed by Creed\n",
    "Gucci Bloom by Gucci\n",
    "Happy by Clinique\n",
    "Hypnotic Poison by Christian Dior\n",
    "Infusion d'Iris by Prada\n",
    "J'adore by Christian Dior\n",
    "Joy by Christian Dior\n",
    "La Vie est Belle by Lancôme\n",
    "Light Blue by Dolce & Gabbana\n",
    "L'Interdit by Givenchy\n",
    "Love Story by Chloé\n",
    "Miracle by Lancôme\n",
    "\"\"\".split(\"\\n\")\n",
    "\n",
    "computer_accessories = [\n",
    "    \"Logitech MX Master 3 Wireless Mouse\",\n",
    "    \"Razer Huntsman Elite Gaming Keyboard\",\n",
    "    \"Samsung T7 Portable SSD - 1TB\",\n",
    "    \"SanDisk Ultra Flair USB 3.0 Flash Drive - 128GB\",\n",
    "    \"Logitech C922 Pro Stream Webcam\",\n",
    "    \"Bose QuietComfort 35 II Wireless Headphones\",\n",
    "    \"Anker 4-Port USB 3.0 Hub\",\n",
    "    \"Kootek Laptop Cooling Pad\",\n",
    "    \"SteelSeries QcK Gaming Surface - XL RGB Prism Edition\",\n",
    "    \"AmazonBasics Metal Monitor Stand\",\n",
    "    \"Logitech R500 Laser Presentation Remote\",\n",
    "    \"Avantree DG60 Bluetooth 5.0 USB Audio Adapter\",\n",
    "    \"AmazonBasics RJ45 Cat-6 Ethernet Patch Cable - 25 Feet\",\n",
    "    \"AmazonBasics High-Speed HDMI Cable - 6 Feet\",\n",
    "    \"AmazonBasics DVI to DVI Cable - 6 Feet\",\n",
    "    \"AmazonBasics VGA to VGA Cable - 6 Feet\",\n",
    "    \"AmazonBasics DisplayPort to DisplayPort Cable - 6 Feet\",\n",
    "    \"AmazonBasics USB 3.0 Extension Cable - 6 Feet\",\n",
    "    \"Blue Yeti USB Mic for Recording & Streaming\",\n",
    "    \"Anker PowerCore 10000 Portable Charger\",\n",
    "    \"Kuzy Keyboard Cover for MacBook Pro\",\n",
    "    \"amFilm Tempered Glass Screen Protector for MacBook Pro\",\n",
    "    \"iKlear Apple Polish Cleaning Kit\",\n",
    "    \"Incase ICON Sleeve for MacBook Pro\",\n",
    "    \"Belkin 6-Outlet Power Strip\"\n",
    "]\n",
    "\n",
    "fashion_shoes = [\n",
    "    \"Adidas Superstar\",\n",
    "    \"Nike Air Force 1\",\n",
    "    \"Converse Chuck Taylor All Star\",\n",
    "    \"Vans Old Skool\",\n",
    "    \"Reebok Classic Leather\",\n",
    "    \"Puma Suede Classic\",\n",
    "    \"New Balance 990v5\",\n",
    "    \"Fila Disruptor II\",\n",
    "    \"Dr. Martens 1460\",\n",
    "    \"Timberland 6-Inch Premium Waterproof Boot\",\n",
    "    \"UGG Classic Short II\",\n",
    "    \"Skechers D'Lites\",\n",
    "    \"Crocs Classic Clog\",\n",
    "    \"Birkenstock Arizona\",\n",
    "    \"Teva Original Universal\",\n",
    "    \"Clarks Desert Boot\",\n",
    "    \"Sperry Top-Sider Authentic Original Boat Shoe\",\n",
    "    \"Steve Madden Irenee Sandal\",\n",
    "    \"Adidas Adilette\",\n",
    "    \"Nike Benassi JDI\",\n",
    "    \"Gucci Ace Sneaker\",\n",
    "    \"Balenciaga Triple S Trainer\",\n",
    "    \"Prada Cloudbust Thunder Sneaker\",\n",
    "    \"Christian Louboutin Red Bottoms\",\n",
    "    \"Yeezy Boost 350 V2\"\n",
    "]\n",
    "\n",
    "baby_products = [\n",
    "    \"Graco Pack 'n Play Playard\",\n",
    "    \"Fisher-Price Infant-to-Toddler Rocker\",\n",
    "    \"Baby Einstein 5-in-1 Journey of Discovery Activity Gym\",\n",
    "    \"Summer Infant Pop N' Jump Portable Activity Center\",\n",
    "    \"Munchkin Portable Diaper Caddy\",\n",
    "    \"Philips Avent Anti-Colic Baby Bottle\",\n",
    "    \"Dr. Brown's Original Bottle Newborn Feeding Set\",\n",
    "    \"Medela Sonata Smart Breast Pump\",\n",
    "    \"Spectra S1 Plus Electric Breast Pump\",\n",
    "    \"FridaBaby NoseFrida The Snotsucker\",\n",
    "    \"Hatch Baby Rest Sound Machine\",\n",
    "    \"4moms mamaRoo 4 Baby Swing\",\n",
    "    \"Baby Delight Beside Me Dreamer Bassinet & Bedside Sleeper\",\n",
    "    \"Boppy Original Nursing Pillow and Positioner\",\n",
    "    \"Skip Hop Moby Bath Spout Cover\",\n",
    "    \"Infantino Flip 4-in-1 Convertible Carrier\",\n",
    "    \"Ergobaby 360 All-Position Baby Carrier\",\n",
    "    \"Baby Trend Expedition Jogger Stroller\",\n",
    "    \"Chicco Bravo Trio Travel System\",\n",
    "    \"UPPAbaby Vista V2 Stroller\",\n",
    "    \"Joovy Spoon Walker\",\n",
    "    \"Fisher-Price Rainforest Jumperoo\",\n",
    "    \"Skip Hop Explore and More Baby's View 3-Stage Activity Center\",\n",
    "    \"Burt's Bees Baby Organic Cotton Bodysuits\",\n",
    "    \"aden + anais Classic Swaddle Blankets\"\n",
    "]\n",
    "\n",
    "watches = ['Apple Watch Series 7', 'Rolex Submariner', 'Omega Seamaster', 'Tag Heuer Carrera', 'Breitling Navitimer', 'Tudor Black Bay', 'Cartier Tank', 'Patek Philippe Nautilus', 'Jaeger-LeCoultre Reverso', 'Audemars Piguet Royal Oak', 'IWC Portugieser', 'Panerai Luminor', 'Breguet Classique', 'Blancpain Fifty Fathoms', 'Hublot Big Bang', 'Zenith El Primero', 'Nomos Glashutte Tangente', 'Seiko SKX007', 'Citizen Eco-Drive', 'Hamilton Khaki Field', 'Tissot T-Touch', 'Casio G-Shock', 'Timex Weekender', 'Fossil Grant', 'Michael Kors Runway']"
   ]
  },
  {
   "cell_type": "code",
   "execution_count": 4,
   "metadata": {},
   "outputs": [],
   "source": [
    "# df['product_name'] = ''\n",
    "# df['product_image_link'] = ''"
   ]
  },
  {
   "cell_type": "code",
   "execution_count": 35,
   "metadata": {},
   "outputs": [],
   "source": [
    "i = 0\n",
    "for r_id, _ in df.loc[df['product_category_name_english'] == 'watches_gifts'].iterrows():\n",
    "    df.at[r_id, 'product_name'] = watches[i]\n",
    "    pyperclip.copy(watches[i]+\" product\")\n",
    "    df.at[r_id, 'product_image_link'] = input(watches[i])\n",
    "    i += 1"
   ]
  },
  {
   "cell_type": "code",
   "execution_count": 52,
   "metadata": {},
   "outputs": [],
   "source": [
    "df.to_csv('5cats_25rows_products_prodTitleAndImages.csv', index=False)"
   ]
  },
  {
   "attachments": {},
   "cell_type": "markdown",
   "metadata": {},
   "source": [
    "### Generate Users"
   ]
  },
  {
   "cell_type": "code",
   "execution_count": 60,
   "metadata": {},
   "outputs": [],
   "source": [
    "randomData = \"\"\"Lucia Lopez, Female, lopez.lucia_1234@example.com\n",
    "Marcos Gonzalez, Male, gonzalez.marcos_5678@example.com\n",
    "Ana Ruiz, Female, ruiz.ana_9012@example.com\n",
    "Jorge Moreno, Male, moreno.jorge_3456@example.com\n",
    "Carmen Castro, Female, castro.carmen_7890@example.com\n",
    "Miguel Garcia, Male, garcia.miguel_2345@example.com\n",
    "Claudia Torres, Female, torres.claudia_6789@example.com\n",
    "Pablo Fernandez, Male, fernandez.pablo_0123@example.com\n",
    "Lucia Ortiz, Female, ortiz.lucia_4567@example.com\n",
    "Antonio Herrera, Male, herrera.antonio_8901@example.com\n",
    "Sara Gomez, Female, gomez.sara_2345@example.com\n",
    "Carlos Flores, Male, flores.carlos_6789@example.com\n",
    "Lucia Ramirez, Female, ramirez.lucia_0123@example.com\n",
    "Mario Castro, Male, castro.mario_4567@example.com\n",
    "Beatriz Martinez, Female, martinez.beatriz_8901@example.com\n",
    "Diego Alonso, Male, alonso.diego_2345@example.com\n",
    "Isabel Navarro, Female, navarro.isabel_6789@example.com\n",
    "Manuel Carrasco, Male, carrasco.manuel_0123@example.com\n",
    "Elena Ferrer, Female, ferrer.elena_4567@example.com\n",
    "Pedro Pascual, Male, pascual.pedro_8901@example.com\n",
    "Julia Ramos, Female, ramos.julia_2345@example.com\n",
    "Javier Iglesias, Male, iglesias.javier_6789@example.com\n",
    "Paula Reyes, Female, reyes.paula_0123@example.com\n",
    "Victor Vargas, Male, vargas.victor_4567@example.com\n",
    "Blanca Aguilar, Female, aguilar.blanca_8901@example.com\n",
    "Luisa Guerrero, Female, guerrero.luisa_2345@example.com\n",
    "Oscar Santos, Male, santos.oscar_6789@example.com\n",
    "Alba Hidalgo, Female, hidalgo.alba_0123@example.com\n",
    "Francisco Molina, Male, molina.francisco_4567@example.com\n",
    "Ines Vega, Female, vega.ines_8901@example.com\n",
    "Sergio Delgado, Male, delgado.sergio_2345@example.com\n",
    "Marina Munoz, Female, munoz.marina_6789@example.com\n",
    "Emilio Rubio, Male, rubio.emilio_0123@example.com\n",
    "Miriam Gomez, Female, gomez.miriam_4567@example.com\n",
    "Daniel Fernandez, Male, fernandez.daniel_8901@example.com\n",
    "Maria Moreno, Female, moreno.maria_2345@example.com\n",
    "Hector Herrera, Male, herrera.hector_6789@example.com\n",
    "Clara Jimenez, Female, jimenez.clara_0123@example.com\n",
    "Andres Ruiz, Male, ruiz.andres_4567@example.com\n",
    "Marta Castro, Female, castro.marta_8901@example.com\"\"\".split(\"\\n\")\n",
    "randomData = [x.split(\", \") for x in randomData]\n",
    "randomData = [x[0].split(\" \")+x[1:] for x in randomData]\n",
    "first_names = [x[0] for x in randomData]\n",
    "last_names = [x[1] for x in randomData]\n",
    "gender = [x[2] for x in randomData]\n",
    "email = [x[3] for x in randomData]"
   ]
  },
  {
   "cell_type": "code",
   "execution_count": 62,
   "metadata": {},
   "outputs": [],
   "source": [
    "df = pd.DataFrame()\n",
    "df['firstname'] = first_names\n",
    "df['lastname'] = last_names\n",
    "df['gender'] = gender\n",
    "df['nationality'] = 'Spain'"
   ]
  },
  {
   "cell_type": "code",
   "execution_count": 75,
   "metadata": {},
   "outputs": [],
   "source": [
    "df['mobile'] = [random.randint(100000000,999999999) for _ in range(40)]\n",
    "df['dob'] = [str(random.randint(1963, 2005)) + \".\" + str(random.randint(1,12)) + \".\" + str(random.randint(1,28)) for _ in range(40)]\n",
    "df['is_traveller'] = [True]*20+[False]*20"
   ]
  },
  {
   "cell_type": "code",
   "execution_count": 77,
   "metadata": {},
   "outputs": [],
   "source": [
    "df.to_csv(\"users.csv\")"
   ]
  },
  {
   "cell_type": "code",
   "execution_count": 2,
   "metadata": {},
   "outputs": [],
   "source": [
    "randomData = \"\"\"Calle de la Cruz 19, 2B, 28012 Madrid, Madrid\n",
    "Carrer de la Mar 9, 2C, 08003 Barcelona, Barcelona\n",
    "Avenida de las Ciencias 6, 4D, 41020 Sevilla, Sevilla\n",
    "Calle Almirante 8, 1C, 46003 Valencia, Valencia\n",
    "Plaza del Castillo 10, 3A, 31001 Pamplona, Navarra\n",
    "Paseo de la Castellana 23, 7D, 28046 Madrid, Madrid\n",
    "Calle del Sol 7, 1B, 18001 Granada, Granada\n",
    "Rúa de San Roque 15, 1D, 15001 A Coruña, A Coruña\n",
    "Calle de las Begonias 5, 2A, 29004 Málaga, Málaga\n",
    "Avenida de la Constitución 15, 3B, 41001 Sevilla, Sevilla\n",
    "Carrer del Pi 11, 3C, 08002 Barcelona, Barcelona\n",
    "Calle de los Reyes Católicos 9, 1D, 41001 Sevilla, Sevilla\n",
    "Plaza del Ayuntamiento 5, 2B, 46002 Valencia, Valencia\n",
    "Calle de Alcalá 46, 6C, 28014 Madrid, Madrid\n",
    "Rúa de San Francisco 9, 2C, 15704 Santiago de Compostela, A Coruña\n",
    "Calle de la Princesa 28, 2D, 28008 Madrid, Madrid\n",
    "Carrer de la Portaferrissa 10, 4A, 08002 Barcelona, Barcelona\n",
    "Plaza de la Merced 10, 4A, 29012 Málaga, Málaga\n",
    "Avenida de los Andes 10, 1D, 29639 Benalmádena, Málaga\n",
    "Calle de la Reina 12, 2C, 46011 Valencia, Valencia\n",
    "Carrer de la Diputació 12, 1A, 08015 Barcelona, Barcelona\n",
    "Plaza Mayor 15, 2A, 37001 Salamanca, Salamanca\n",
    "Calle del Arenal 2, 1C, 28013 Madrid, Madrid\n",
    "Avenida de los Boliches 3, 5D, 29640 Fuengirola, Málaga\n",
    "Rúa de San Vicente 28, 1C, 46002 Valencia, Valencia\n",
    "Calle Serrano 42, 6C, 28001 Madrid, Madrid\n",
    "Plaza de Cibeles 1, 3B, 28014 Madrid, Madrid\n",
    "Avinguda Diagonal 6, 3B, 08019 Barcelona, Barcelona\n",
    "Calle de la Paz 2, 1A, 46003 Valencia, Valencia\n",
    "Plaza Mayor 22, 3C, 28012 Madrid, Madrid\n",
    "Carrer de l'Argenteria 5, 2B, 08003 Barcelona, Barcelona\n",
    "Calle de las Herrerías 3, 1B, 33003 Oviedo, Asturias\n",
    "Calle de la Marina 14, 2C, 07013 Palma de Mallorca, Balearic Islands\n",
    "Carrer del Comte Borrell 21, 4B, 08015 Barcelona, Barcelona\n",
    "Calle de la Luna 5, 3A, 30001 Murcia, Murcia\n",
    "Calle de la Palma 11, 1D, 28004 Madrid, Madrid\n",
    "Rúa de Santo Domingo 8, 2B, 15702 Santiago de Compostela, A Coruña\n",
    "Avenida de la Libertad 20, 5A, 29016 Málaga, Málaga\n",
    "Carrer de Pelai 12, 2C, 08001 Barcelona, Barcelona\n",
    "Calle del Arco 5, 1B, 14003 Córdoba, Córdoba\"\"\".split(\"\\n\")\n",
    "randomData = [x.split(\", \") for x in randomData]"
   ]
  },
  {
   "cell_type": "code",
   "execution_count": 22,
   "metadata": {},
   "outputs": [],
   "source": [
    "# putting each attribute separately\n",
    "randomData1 = []\n",
    "for data in randomData:\n",
    "    x = data[0].split(\" \")\n",
    "    streetN = x[-1]\n",
    "    streetName = \" \".join(x[:-1])\n",
    "    newD = [streetName, streetN]\n",
    "    newD.append(data[1])\n",
    "    postal_commune = data[2].split(\" \")\n",
    "    newD.append(postal_commune[0])\n",
    "    newD.append(\" \".join(postal_commune[1:]))\n",
    "    newD.append(data[3])\n",
    "    randomData1.append(newD)"
   ]
  },
  {
   "cell_type": "code",
   "execution_count": 25,
   "metadata": {},
   "outputs": [],
   "source": [
    "df = pd.DataFrame(randomData1, columns=['streetName', 'streetNumber', 'buildingNumber', 'postalCode', 'city', 'provence'])\n",
    "df['country'] = 'Spain'\n",
    "df.to_csv('addresses.csv')"
   ]
  },
  {
   "cell_type": "code",
   "execution_count": 30,
   "metadata": {},
   "outputs": [],
   "source": [
    "df = pd.read_csv('5cats_25rows_products_prodTitleAndImages.csv')"
   ]
  },
  {
   "cell_type": "code",
   "execution_count": 32,
   "metadata": {},
   "outputs": [],
   "source": [
    "# assigning to a random user\n",
    "df['user_id'] = [random.randrange(0,40) for _ in range(125)]"
   ]
  },
  {
   "cell_type": "code",
   "execution_count": 39,
   "metadata": {},
   "outputs": [],
   "source": [
    "df['request_date'] = ['2023.04.'+str(random.randrange(10,17)) for _ in range(125)]"
   ]
  }
 ],
 "metadata": {
  "kernelspec": {
   "display_name": "race-charts-3Ukbqb5o",
   "language": "python",
   "name": "python3"
  },
  "language_info": {
   "codemirror_mode": {
    "name": "ipython",
    "version": 3
   },
   "file_extension": ".py",
   "mimetype": "text/x-python",
   "name": "python",
   "nbconvert_exporter": "python",
   "pygments_lexer": "ipython3",
   "version": "3.8.10"
  },
  "orig_nbformat": 4
 },
 "nbformat": 4,
 "nbformat_minor": 2
}
