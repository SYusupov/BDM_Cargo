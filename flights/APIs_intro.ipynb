{
 "cells": [
  {
   "cell_type": "code",
   "execution_count": 2,
   "metadata": {},
   "outputs": [],
   "source": [
    "import requests\n",
    "from datetime import date, timedelta\n",
    "import json\n",
    "import csv"
   ]
  },
  {
   "attachments": {},
   "cell_type": "markdown",
   "metadata": {},
   "source": [
    "### FlightStats"
   ]
  },
  {
   "cell_type": "code",
   "execution_count": 6,
   "metadata": {},
   "outputs": [
    {
     "name": "stdout",
     "output_type": "stream",
     "text": [
      "2023-04-14\n",
      "2023-04-15\n",
      "2023-04-16\n",
      "2023-04-17\n",
      "2023-04-18\n",
      "2023-04-19\n",
      "2023-04-20\n"
     ]
    }
   ],
   "source": [
    "# getting for the next week, BCN->MDR\n",
    "days = 7\n",
    "for i in range(1, days+1):\n",
    "    cur_date = date.today() + timedelta(days=i)\n",
    "    print(cur_date)\n",
    "\n",
    "    # scheduled flights by route, departing on the given date\n",
    "    params = {\n",
    "        'appId':'8d9f59d5',\n",
    "        'appKey':'434d9d90d914eef00c84cad6add63688',\n",
    "        'departureAirportCode':'BCN',\n",
    "        'arrivalAirportCode':'MAD',\n",
    "        'year':cur_date.year,\n",
    "        'month':cur_date.month,\n",
    "        'day':cur_date.day,\n",
    "        'codeType':'IATA'\n",
    "    }\n",
    "\n",
    "    api_result = requests.get(\n",
    "        \"https://api.flightstats.com/flex/schedules/rest/v1/json\"\n",
    "        f\"/from/{params['departureAirportCode']}/to/{params['arrivalAirportCode']}\"\n",
    "        f\"/departing/{params['year']}/{params['month']}/{params['day']}\"\n",
    "        f\"?appId={params['appId']}\"\n",
    "        f\"&appKey={params['appKey']}\"\n",
    "        f\"&codeType={params['codeType']}\")\n",
    "    \n",
    "    output = api_result.json()\n",
    "\n",
    "    # with open(\"response2_FlightStats_SchedulesAPI.json\", \"w\") as out:\n",
    "    # json.dump(output, out)\n",
    "\n",
    "    req_params = ['flightNumber', 'departureAirportFsCode', 'arrivalAirportFsCode', 'departureTime', 'arrivalTime', 'stops', 'departureTerminal', 'arrivalTerminal']\n",
    "    with open('scheduledFlights2.csv', 'a', newline='') as file:\n",
    "        writer = csv.writer(file)\n",
    "        # writer.writerow(req_params)\n",
    "        for idx in range(len(output['scheduledFlights'])):\n",
    "            writer.writerow([output['scheduledFlights'][idx][param] for param in req_params])"
   ]
  },
  {
   "attachments": {},
   "cell_type": "markdown",
   "metadata": {},
   "source": [
    "### AviationStack"
   ]
  },
  {
   "cell_type": "code",
   "execution_count": 10,
   "metadata": {},
   "outputs": [],
   "source": [
    "# More info: https://aviationstack.com/documentation\n",
    "\n",
    "params = {\n",
    "  'access_key': 'e78c58f49ec83555fef1d339c0cc83ee',\n",
    "  'dep_iata': 'BCN',\n",
    "  'arr_iata': 'MAD'\n",
    "}\n",
    "\n",
    "# request 1, param: just access_key\n",
    "# api_result = requests.get('https://api.aviationstack.com/v1/flights', params)\n",
    "\n",
    "# request 2\n",
    "api_result = requests.get('http://api.aviationstack.com/v1/routes', params)\n",
    "\n",
    "api_response = api_result.json()\n",
    "\n",
    "# for flight in api_response['results']:\n",
    "#     if (flight['live']['is_ground'] is False):\n",
    "#         print(u'%s flight %s from %s (%s) to %s (%s) is in the air.' % (\n",
    "#             flight['airline']['name'],\n",
    "#             flight['flight']['iata'],\n",
    "#             flight['departure']['airport'],\n",
    "#             flight['departure']['iata'],\n",
    "#             flight['arrival']['airport'],\n",
    "#             flight['arrival']['iata']))"
   ]
  },
  {
   "cell_type": "code",
   "execution_count": 11,
   "metadata": {},
   "outputs": [
    {
     "data": {
      "text/plain": [
       "{'error': {'code': 'function_access_restricted',\n",
       "  'message': 'Your current subscription plan does not support this API function.'}}"
      ]
     },
     "execution_count": 11,
     "metadata": {},
     "output_type": "execute_result"
    }
   ],
   "source": [
    "api_response"
   ]
  }
 ],
 "metadata": {
  "kernelspec": {
   "display_name": "race-charts-3Ukbqb5o",
   "language": "python",
   "name": "python3"
  },
  "language_info": {
   "codemirror_mode": {
    "name": "ipython",
    "version": 3
   },
   "file_extension": ".py",
   "mimetype": "text/x-python",
   "name": "python",
   "nbconvert_exporter": "python",
   "pygments_lexer": "ipython3",
   "version": "3.8.10"
  },
  "orig_nbformat": 4
 },
 "nbformat": 4,
 "nbformat_minor": 2
}
